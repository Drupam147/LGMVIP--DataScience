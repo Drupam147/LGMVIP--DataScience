{
  "nbformat": 4,
  "nbformat_minor": 0,
  "metadata": {
    "colab": {
      "name": "LGMVIP TASK 3.ipynb",
      "provenance": [],
      "authorship_tag": "ABX9TyPGGw7xOgu7Evla1Pg9dRGL",
      "include_colab_link": true
    },
    "kernelspec": {
      "name": "python3",
      "display_name": "Python 3"
    },
    "language_info": {
      "name": "python"
    }
  },
  "cells": [
    {
      "cell_type": "markdown",
      "metadata": {
        "id": "view-in-github",
        "colab_type": "text"
      },
      "source": [
        "<a href=\"https://colab.research.google.com/github/Drupam147/LGMVIP--DataScience/blob/main/LGMVIP_TASK_3.ipynb\" target=\"_parent\"><img src=\"https://colab.research.google.com/assets/colab-badge.svg\" alt=\"Open In Colab\"/></a>"
      ]
    },
    {
      "cell_type": "markdown",
      "source": [
        "# LGMVIP TASK-3\n",
        "\n",
        "LEVEL-INTERMEDIATE\n",
        "\n",
        "EXPLORATORY DATA ANALYSIS ON DATASET TERRORISM\n",
        "\n",
        "OBJECTIVE - AS A SECURITY/DEFENCE ANALYST TRY TO FIND OUT THE HOT ZONE OF TERRORISM\n",
        "\n",
        "AUTHOR - Rupam Das"
      ],
      "metadata": {
        "id": "_QDiI40VDyCz"
      }
    },
    {
      "cell_type": "code",
      "execution_count": null,
      "metadata": {
        "id": "aB1niTfx3Sdv"
      },
      "outputs": [],
      "source": [
        "##IMPORTING NECESSARY LIBRARIES\n",
        "import numpy as np\n",
        "import pandas as pd\n",
        "import matplotlib.pyplot as plt\n",
        "%matplotlib inline\n",
        "import seaborn as sns\n",
        "import warnings\n",
        "warnings.filterwarnings('ignore')"
      ]
    },
    {
      "cell_type": "code",
      "source": [
        "##READING AND UNDERSTANDING THE DATASET\n",
        "data = pd.read_csv(\"globalterrorismdb_0718dist.csv\",dtype = 'unicode',encoding ='latin1')\n",
        "data.head()"
      ],
      "metadata": {
        "colab": {
          "base_uri": "https://localhost:8080/",
          "height": 317
        },
        "id": "PHh4GrNy8edh",
        "outputId": "59fd5bd9-5f05-452c-a427-ba50277f946c"
      },
      "execution_count": null,
      "outputs": [
        {
          "output_type": "execute_result",
          "data": {
            "text/plain": [
              "        eventid iyear imonth iday approxdate extended resolution country  \\\n",
              "0  197000000001  1970      7    2        NaN        0        NaN      58   \n",
              "1  197000000002  1970      0    0        NaN        0        NaN     130   \n",
              "2  197001000001  1970      1    0        NaN        0        NaN     160   \n",
              "3  197001000002  1970      1    0        NaN        0        NaN      78   \n",
              "4  197001000003  1970      1    0        NaN        0        NaN     101   \n",
              "\n",
              "          country_txt region  ... addnotes scite1 scite2 scite3 dbsource  \\\n",
              "0  Dominican Republic      2  ...      NaN    NaN    NaN    NaN     PGIS   \n",
              "1              Mexico      1  ...      NaN    NaN    NaN    NaN     PGIS   \n",
              "2         Philippines      5  ...      NaN    NaN    NaN    NaN     PGIS   \n",
              "3              Greece      8  ...      NaN    NaN    NaN    NaN     PGIS   \n",
              "4               Japan      4  ...      NaN    NaN    NaN    NaN     PGIS   \n",
              "\n",
              "  INT_LOG INT_IDEO INT_MISC INT_ANY related  \n",
              "0       0        0        0       0     NaN  \n",
              "1       0        1        1       1     NaN  \n",
              "2      -9       -9        1       1     NaN  \n",
              "3      -9       -9        1       1     NaN  \n",
              "4      -9       -9        1       1     NaN  \n",
              "\n",
              "[5 rows x 135 columns]"
            ],
            "text/html": [
              "\n",
              "  <div id=\"df-3cbdd1f3-ca97-4061-8a72-021a90205032\">\n",
              "    <div class=\"colab-df-container\">\n",
              "      <div>\n",
              "<style scoped>\n",
              "    .dataframe tbody tr th:only-of-type {\n",
              "        vertical-align: middle;\n",
              "    }\n",
              "\n",
              "    .dataframe tbody tr th {\n",
              "        vertical-align: top;\n",
              "    }\n",
              "\n",
              "    .dataframe thead th {\n",
              "        text-align: right;\n",
              "    }\n",
              "</style>\n",
              "<table border=\"1\" class=\"dataframe\">\n",
              "  <thead>\n",
              "    <tr style=\"text-align: right;\">\n",
              "      <th></th>\n",
              "      <th>eventid</th>\n",
              "      <th>iyear</th>\n",
              "      <th>imonth</th>\n",
              "      <th>iday</th>\n",
              "      <th>approxdate</th>\n",
              "      <th>extended</th>\n",
              "      <th>resolution</th>\n",
              "      <th>country</th>\n",
              "      <th>country_txt</th>\n",
              "      <th>region</th>\n",
              "      <th>...</th>\n",
              "      <th>addnotes</th>\n",
              "      <th>scite1</th>\n",
              "      <th>scite2</th>\n",
              "      <th>scite3</th>\n",
              "      <th>dbsource</th>\n",
              "      <th>INT_LOG</th>\n",
              "      <th>INT_IDEO</th>\n",
              "      <th>INT_MISC</th>\n",
              "      <th>INT_ANY</th>\n",
              "      <th>related</th>\n",
              "    </tr>\n",
              "  </thead>\n",
              "  <tbody>\n",
              "    <tr>\n",
              "      <th>0</th>\n",
              "      <td>197000000001</td>\n",
              "      <td>1970</td>\n",
              "      <td>7</td>\n",
              "      <td>2</td>\n",
              "      <td>NaN</td>\n",
              "      <td>0</td>\n",
              "      <td>NaN</td>\n",
              "      <td>58</td>\n",
              "      <td>Dominican Republic</td>\n",
              "      <td>2</td>\n",
              "      <td>...</td>\n",
              "      <td>NaN</td>\n",
              "      <td>NaN</td>\n",
              "      <td>NaN</td>\n",
              "      <td>NaN</td>\n",
              "      <td>PGIS</td>\n",
              "      <td>0</td>\n",
              "      <td>0</td>\n",
              "      <td>0</td>\n",
              "      <td>0</td>\n",
              "      <td>NaN</td>\n",
              "    </tr>\n",
              "    <tr>\n",
              "      <th>1</th>\n",
              "      <td>197000000002</td>\n",
              "      <td>1970</td>\n",
              "      <td>0</td>\n",
              "      <td>0</td>\n",
              "      <td>NaN</td>\n",
              "      <td>0</td>\n",
              "      <td>NaN</td>\n",
              "      <td>130</td>\n",
              "      <td>Mexico</td>\n",
              "      <td>1</td>\n",
              "      <td>...</td>\n",
              "      <td>NaN</td>\n",
              "      <td>NaN</td>\n",
              "      <td>NaN</td>\n",
              "      <td>NaN</td>\n",
              "      <td>PGIS</td>\n",
              "      <td>0</td>\n",
              "      <td>1</td>\n",
              "      <td>1</td>\n",
              "      <td>1</td>\n",
              "      <td>NaN</td>\n",
              "    </tr>\n",
              "    <tr>\n",
              "      <th>2</th>\n",
              "      <td>197001000001</td>\n",
              "      <td>1970</td>\n",
              "      <td>1</td>\n",
              "      <td>0</td>\n",
              "      <td>NaN</td>\n",
              "      <td>0</td>\n",
              "      <td>NaN</td>\n",
              "      <td>160</td>\n",
              "      <td>Philippines</td>\n",
              "      <td>5</td>\n",
              "      <td>...</td>\n",
              "      <td>NaN</td>\n",
              "      <td>NaN</td>\n",
              "      <td>NaN</td>\n",
              "      <td>NaN</td>\n",
              "      <td>PGIS</td>\n",
              "      <td>-9</td>\n",
              "      <td>-9</td>\n",
              "      <td>1</td>\n",
              "      <td>1</td>\n",
              "      <td>NaN</td>\n",
              "    </tr>\n",
              "    <tr>\n",
              "      <th>3</th>\n",
              "      <td>197001000002</td>\n",
              "      <td>1970</td>\n",
              "      <td>1</td>\n",
              "      <td>0</td>\n",
              "      <td>NaN</td>\n",
              "      <td>0</td>\n",
              "      <td>NaN</td>\n",
              "      <td>78</td>\n",
              "      <td>Greece</td>\n",
              "      <td>8</td>\n",
              "      <td>...</td>\n",
              "      <td>NaN</td>\n",
              "      <td>NaN</td>\n",
              "      <td>NaN</td>\n",
              "      <td>NaN</td>\n",
              "      <td>PGIS</td>\n",
              "      <td>-9</td>\n",
              "      <td>-9</td>\n",
              "      <td>1</td>\n",
              "      <td>1</td>\n",
              "      <td>NaN</td>\n",
              "    </tr>\n",
              "    <tr>\n",
              "      <th>4</th>\n",
              "      <td>197001000003</td>\n",
              "      <td>1970</td>\n",
              "      <td>1</td>\n",
              "      <td>0</td>\n",
              "      <td>NaN</td>\n",
              "      <td>0</td>\n",
              "      <td>NaN</td>\n",
              "      <td>101</td>\n",
              "      <td>Japan</td>\n",
              "      <td>4</td>\n",
              "      <td>...</td>\n",
              "      <td>NaN</td>\n",
              "      <td>NaN</td>\n",
              "      <td>NaN</td>\n",
              "      <td>NaN</td>\n",
              "      <td>PGIS</td>\n",
              "      <td>-9</td>\n",
              "      <td>-9</td>\n",
              "      <td>1</td>\n",
              "      <td>1</td>\n",
              "      <td>NaN</td>\n",
              "    </tr>\n",
              "  </tbody>\n",
              "</table>\n",
              "<p>5 rows × 135 columns</p>\n",
              "</div>\n",
              "      <button class=\"colab-df-convert\" onclick=\"convertToInteractive('df-3cbdd1f3-ca97-4061-8a72-021a90205032')\"\n",
              "              title=\"Convert this dataframe to an interactive table.\"\n",
              "              style=\"display:none;\">\n",
              "        \n",
              "  <svg xmlns=\"http://www.w3.org/2000/svg\" height=\"24px\"viewBox=\"0 0 24 24\"\n",
              "       width=\"24px\">\n",
              "    <path d=\"M0 0h24v24H0V0z\" fill=\"none\"/>\n",
              "    <path d=\"M18.56 5.44l.94 2.06.94-2.06 2.06-.94-2.06-.94-.94-2.06-.94 2.06-2.06.94zm-11 1L8.5 8.5l.94-2.06 2.06-.94-2.06-.94L8.5 2.5l-.94 2.06-2.06.94zm10 10l.94 2.06.94-2.06 2.06-.94-2.06-.94-.94-2.06-.94 2.06-2.06.94z\"/><path d=\"M17.41 7.96l-1.37-1.37c-.4-.4-.92-.59-1.43-.59-.52 0-1.04.2-1.43.59L10.3 9.45l-7.72 7.72c-.78.78-.78 2.05 0 2.83L4 21.41c.39.39.9.59 1.41.59.51 0 1.02-.2 1.41-.59l7.78-7.78 2.81-2.81c.8-.78.8-2.07 0-2.86zM5.41 20L4 18.59l7.72-7.72 1.47 1.35L5.41 20z\"/>\n",
              "  </svg>\n",
              "      </button>\n",
              "      \n",
              "  <style>\n",
              "    .colab-df-container {\n",
              "      display:flex;\n",
              "      flex-wrap:wrap;\n",
              "      gap: 12px;\n",
              "    }\n",
              "\n",
              "    .colab-df-convert {\n",
              "      background-color: #E8F0FE;\n",
              "      border: none;\n",
              "      border-radius: 50%;\n",
              "      cursor: pointer;\n",
              "      display: none;\n",
              "      fill: #1967D2;\n",
              "      height: 32px;\n",
              "      padding: 0 0 0 0;\n",
              "      width: 32px;\n",
              "    }\n",
              "\n",
              "    .colab-df-convert:hover {\n",
              "      background-color: #E2EBFA;\n",
              "      box-shadow: 0px 1px 2px rgba(60, 64, 67, 0.3), 0px 1px 3px 1px rgba(60, 64, 67, 0.15);\n",
              "      fill: #174EA6;\n",
              "    }\n",
              "\n",
              "    [theme=dark] .colab-df-convert {\n",
              "      background-color: #3B4455;\n",
              "      fill: #D2E3FC;\n",
              "    }\n",
              "\n",
              "    [theme=dark] .colab-df-convert:hover {\n",
              "      background-color: #434B5C;\n",
              "      box-shadow: 0px 1px 3px 1px rgba(0, 0, 0, 0.15);\n",
              "      filter: drop-shadow(0px 1px 2px rgba(0, 0, 0, 0.3));\n",
              "      fill: #FFFFFF;\n",
              "    }\n",
              "  </style>\n",
              "\n",
              "      <script>\n",
              "        const buttonEl =\n",
              "          document.querySelector('#df-3cbdd1f3-ca97-4061-8a72-021a90205032 button.colab-df-convert');\n",
              "        buttonEl.style.display =\n",
              "          google.colab.kernel.accessAllowed ? 'block' : 'none';\n",
              "\n",
              "        async function convertToInteractive(key) {\n",
              "          const element = document.querySelector('#df-3cbdd1f3-ca97-4061-8a72-021a90205032');\n",
              "          const dataTable =\n",
              "            await google.colab.kernel.invokeFunction('convertToInteractive',\n",
              "                                                     [key], {});\n",
              "          if (!dataTable) return;\n",
              "\n",
              "          const docLinkHtml = 'Like what you see? Visit the ' +\n",
              "            '<a target=\"_blank\" href=https://colab.research.google.com/notebooks/data_table.ipynb>data table notebook</a>'\n",
              "            + ' to learn more about interactive tables.';\n",
              "          element.innerHTML = '';\n",
              "          dataTable['output_type'] = 'display_data';\n",
              "          await google.colab.output.renderOutput(dataTable, element);\n",
              "          const docLink = document.createElement('div');\n",
              "          docLink.innerHTML = docLinkHtml;\n",
              "          element.appendChild(docLink);\n",
              "        }\n",
              "      </script>\n",
              "    </div>\n",
              "  </div>\n",
              "  "
            ]
          },
          "metadata": {},
          "execution_count": 3
        }
      ]
    },
    {
      "cell_type": "code",
      "source": [
        "data.tail()"
      ],
      "metadata": {
        "colab": {
          "base_uri": "https://localhost:8080/",
          "height": 525
        },
        "id": "_2ef4K5184jP",
        "outputId": "0b0e82d1-5553-4bcb-dada-44edc8b1dce9"
      },
      "execution_count": null,
      "outputs": [
        {
          "output_type": "execute_result",
          "data": {
            "text/plain": [
              "             eventid iyear imonth iday approxdate extended resolution country  \\\n",
              "137309  201409020052  2014      9    2        NaN        0        NaN     153   \n",
              "137310  201409020054  2014      9    2        NaN        0        NaN     214   \n",
              "137311  201409020059  2014      9    2        NaN        0        NaN     147   \n",
              "137312  201409030001  2014      9    3        NaN        0        NaN     113   \n",
              "137313  201409030002  2014      9    3        NaN        0        NaN     182   \n",
              "\n",
              "       country_txt region  ... addnotes  \\\n",
              "137309    Pakistan      6  ...      NaN   \n",
              "137310     Ukraine      9  ...      NaN   \n",
              "137311     Nigeria     11  ...      NaN   \n",
              "137312       Libya     10  ...      NaN   \n",
              "137313     Somalia     11  ...      NaN   \n",
              "\n",
              "                                                   scite1  \\\n",
              "137309  \"Updated: Four killed, five injured in Karachi...   \n",
              "137310  \"Ukraine says cross-border shelling increases,...   \n",
              "137311  \"Unknown Gunmen kill Magistrate in Enugu,\" Thi...   \n",
              "137312  \"SOCAFRICA: Libya Incident Tracker: 30 August ...   \n",
              "137313                                                NaN   \n",
              "\n",
              "                                                   scite2 scite3  \\\n",
              "137309                                                NaN    NaN   \n",
              "137310  \"'Terrorists' in Russian uniform fire on Ukrai...    NaN   \n",
              "137311                                                NaN    NaN   \n",
              "137312                                                NaN    NaN   \n",
              "137313                                                NaN    NaN   \n",
              "\n",
              "                        dbsource INT_LOG INT_IDEO INT_MISC INT_ANY related  \n",
              "137309  START Primary Collection      -9       -9        0      -9     NaN  \n",
              "137310  START Primary Collection      -9       -9        0      -9     NaN  \n",
              "137311  START Primary Collection      -9       -9        0      -9     NaN  \n",
              "137312  START Primary Collection      -9       -9        0      -9     NaN  \n",
              "137313                       NaN     NaN      NaN      NaN     NaN     NaN  \n",
              "\n",
              "[5 rows x 135 columns]"
            ],
            "text/html": [
              "\n",
              "  <div id=\"df-5cbfa1fd-55f1-4f80-87d8-17f1acccbcc3\">\n",
              "    <div class=\"colab-df-container\">\n",
              "      <div>\n",
              "<style scoped>\n",
              "    .dataframe tbody tr th:only-of-type {\n",
              "        vertical-align: middle;\n",
              "    }\n",
              "\n",
              "    .dataframe tbody tr th {\n",
              "        vertical-align: top;\n",
              "    }\n",
              "\n",
              "    .dataframe thead th {\n",
              "        text-align: right;\n",
              "    }\n",
              "</style>\n",
              "<table border=\"1\" class=\"dataframe\">\n",
              "  <thead>\n",
              "    <tr style=\"text-align: right;\">\n",
              "      <th></th>\n",
              "      <th>eventid</th>\n",
              "      <th>iyear</th>\n",
              "      <th>imonth</th>\n",
              "      <th>iday</th>\n",
              "      <th>approxdate</th>\n",
              "      <th>extended</th>\n",
              "      <th>resolution</th>\n",
              "      <th>country</th>\n",
              "      <th>country_txt</th>\n",
              "      <th>region</th>\n",
              "      <th>...</th>\n",
              "      <th>addnotes</th>\n",
              "      <th>scite1</th>\n",
              "      <th>scite2</th>\n",
              "      <th>scite3</th>\n",
              "      <th>dbsource</th>\n",
              "      <th>INT_LOG</th>\n",
              "      <th>INT_IDEO</th>\n",
              "      <th>INT_MISC</th>\n",
              "      <th>INT_ANY</th>\n",
              "      <th>related</th>\n",
              "    </tr>\n",
              "  </thead>\n",
              "  <tbody>\n",
              "    <tr>\n",
              "      <th>137309</th>\n",
              "      <td>201409020052</td>\n",
              "      <td>2014</td>\n",
              "      <td>9</td>\n",
              "      <td>2</td>\n",
              "      <td>NaN</td>\n",
              "      <td>0</td>\n",
              "      <td>NaN</td>\n",
              "      <td>153</td>\n",
              "      <td>Pakistan</td>\n",
              "      <td>6</td>\n",
              "      <td>...</td>\n",
              "      <td>NaN</td>\n",
              "      <td>\"Updated: Four killed, five injured in Karachi...</td>\n",
              "      <td>NaN</td>\n",
              "      <td>NaN</td>\n",
              "      <td>START Primary Collection</td>\n",
              "      <td>-9</td>\n",
              "      <td>-9</td>\n",
              "      <td>0</td>\n",
              "      <td>-9</td>\n",
              "      <td>NaN</td>\n",
              "    </tr>\n",
              "    <tr>\n",
              "      <th>137310</th>\n",
              "      <td>201409020054</td>\n",
              "      <td>2014</td>\n",
              "      <td>9</td>\n",
              "      <td>2</td>\n",
              "      <td>NaN</td>\n",
              "      <td>0</td>\n",
              "      <td>NaN</td>\n",
              "      <td>214</td>\n",
              "      <td>Ukraine</td>\n",
              "      <td>9</td>\n",
              "      <td>...</td>\n",
              "      <td>NaN</td>\n",
              "      <td>\"Ukraine says cross-border shelling increases,...</td>\n",
              "      <td>\"'Terrorists' in Russian uniform fire on Ukrai...</td>\n",
              "      <td>NaN</td>\n",
              "      <td>START Primary Collection</td>\n",
              "      <td>-9</td>\n",
              "      <td>-9</td>\n",
              "      <td>0</td>\n",
              "      <td>-9</td>\n",
              "      <td>NaN</td>\n",
              "    </tr>\n",
              "    <tr>\n",
              "      <th>137311</th>\n",
              "      <td>201409020059</td>\n",
              "      <td>2014</td>\n",
              "      <td>9</td>\n",
              "      <td>2</td>\n",
              "      <td>NaN</td>\n",
              "      <td>0</td>\n",
              "      <td>NaN</td>\n",
              "      <td>147</td>\n",
              "      <td>Nigeria</td>\n",
              "      <td>11</td>\n",
              "      <td>...</td>\n",
              "      <td>NaN</td>\n",
              "      <td>\"Unknown Gunmen kill Magistrate in Enugu,\" Thi...</td>\n",
              "      <td>NaN</td>\n",
              "      <td>NaN</td>\n",
              "      <td>START Primary Collection</td>\n",
              "      <td>-9</td>\n",
              "      <td>-9</td>\n",
              "      <td>0</td>\n",
              "      <td>-9</td>\n",
              "      <td>NaN</td>\n",
              "    </tr>\n",
              "    <tr>\n",
              "      <th>137312</th>\n",
              "      <td>201409030001</td>\n",
              "      <td>2014</td>\n",
              "      <td>9</td>\n",
              "      <td>3</td>\n",
              "      <td>NaN</td>\n",
              "      <td>0</td>\n",
              "      <td>NaN</td>\n",
              "      <td>113</td>\n",
              "      <td>Libya</td>\n",
              "      <td>10</td>\n",
              "      <td>...</td>\n",
              "      <td>NaN</td>\n",
              "      <td>\"SOCAFRICA: Libya Incident Tracker: 30 August ...</td>\n",
              "      <td>NaN</td>\n",
              "      <td>NaN</td>\n",
              "      <td>START Primary Collection</td>\n",
              "      <td>-9</td>\n",
              "      <td>-9</td>\n",
              "      <td>0</td>\n",
              "      <td>-9</td>\n",
              "      <td>NaN</td>\n",
              "    </tr>\n",
              "    <tr>\n",
              "      <th>137313</th>\n",
              "      <td>201409030002</td>\n",
              "      <td>2014</td>\n",
              "      <td>9</td>\n",
              "      <td>3</td>\n",
              "      <td>NaN</td>\n",
              "      <td>0</td>\n",
              "      <td>NaN</td>\n",
              "      <td>182</td>\n",
              "      <td>Somalia</td>\n",
              "      <td>11</td>\n",
              "      <td>...</td>\n",
              "      <td>NaN</td>\n",
              "      <td>NaN</td>\n",
              "      <td>NaN</td>\n",
              "      <td>NaN</td>\n",
              "      <td>NaN</td>\n",
              "      <td>NaN</td>\n",
              "      <td>NaN</td>\n",
              "      <td>NaN</td>\n",
              "      <td>NaN</td>\n",
              "      <td>NaN</td>\n",
              "    </tr>\n",
              "  </tbody>\n",
              "</table>\n",
              "<p>5 rows × 135 columns</p>\n",
              "</div>\n",
              "      <button class=\"colab-df-convert\" onclick=\"convertToInteractive('df-5cbfa1fd-55f1-4f80-87d8-17f1acccbcc3')\"\n",
              "              title=\"Convert this dataframe to an interactive table.\"\n",
              "              style=\"display:none;\">\n",
              "        \n",
              "  <svg xmlns=\"http://www.w3.org/2000/svg\" height=\"24px\"viewBox=\"0 0 24 24\"\n",
              "       width=\"24px\">\n",
              "    <path d=\"M0 0h24v24H0V0z\" fill=\"none\"/>\n",
              "    <path d=\"M18.56 5.44l.94 2.06.94-2.06 2.06-.94-2.06-.94-.94-2.06-.94 2.06-2.06.94zm-11 1L8.5 8.5l.94-2.06 2.06-.94-2.06-.94L8.5 2.5l-.94 2.06-2.06.94zm10 10l.94 2.06.94-2.06 2.06-.94-2.06-.94-.94-2.06-.94 2.06-2.06.94z\"/><path d=\"M17.41 7.96l-1.37-1.37c-.4-.4-.92-.59-1.43-.59-.52 0-1.04.2-1.43.59L10.3 9.45l-7.72 7.72c-.78.78-.78 2.05 0 2.83L4 21.41c.39.39.9.59 1.41.59.51 0 1.02-.2 1.41-.59l7.78-7.78 2.81-2.81c.8-.78.8-2.07 0-2.86zM5.41 20L4 18.59l7.72-7.72 1.47 1.35L5.41 20z\"/>\n",
              "  </svg>\n",
              "      </button>\n",
              "      \n",
              "  <style>\n",
              "    .colab-df-container {\n",
              "      display:flex;\n",
              "      flex-wrap:wrap;\n",
              "      gap: 12px;\n",
              "    }\n",
              "\n",
              "    .colab-df-convert {\n",
              "      background-color: #E8F0FE;\n",
              "      border: none;\n",
              "      border-radius: 50%;\n",
              "      cursor: pointer;\n",
              "      display: none;\n",
              "      fill: #1967D2;\n",
              "      height: 32px;\n",
              "      padding: 0 0 0 0;\n",
              "      width: 32px;\n",
              "    }\n",
              "\n",
              "    .colab-df-convert:hover {\n",
              "      background-color: #E2EBFA;\n",
              "      box-shadow: 0px 1px 2px rgba(60, 64, 67, 0.3), 0px 1px 3px 1px rgba(60, 64, 67, 0.15);\n",
              "      fill: #174EA6;\n",
              "    }\n",
              "\n",
              "    [theme=dark] .colab-df-convert {\n",
              "      background-color: #3B4455;\n",
              "      fill: #D2E3FC;\n",
              "    }\n",
              "\n",
              "    [theme=dark] .colab-df-convert:hover {\n",
              "      background-color: #434B5C;\n",
              "      box-shadow: 0px 1px 3px 1px rgba(0, 0, 0, 0.15);\n",
              "      filter: drop-shadow(0px 1px 2px rgba(0, 0, 0, 0.3));\n",
              "      fill: #FFFFFF;\n",
              "    }\n",
              "  </style>\n",
              "\n",
              "      <script>\n",
              "        const buttonEl =\n",
              "          document.querySelector('#df-5cbfa1fd-55f1-4f80-87d8-17f1acccbcc3 button.colab-df-convert');\n",
              "        buttonEl.style.display =\n",
              "          google.colab.kernel.accessAllowed ? 'block' : 'none';\n",
              "\n",
              "        async function convertToInteractive(key) {\n",
              "          const element = document.querySelector('#df-5cbfa1fd-55f1-4f80-87d8-17f1acccbcc3');\n",
              "          const dataTable =\n",
              "            await google.colab.kernel.invokeFunction('convertToInteractive',\n",
              "                                                     [key], {});\n",
              "          if (!dataTable) return;\n",
              "\n",
              "          const docLinkHtml = 'Like what you see? Visit the ' +\n",
              "            '<a target=\"_blank\" href=https://colab.research.google.com/notebooks/data_table.ipynb>data table notebook</a>'\n",
              "            + ' to learn more about interactive tables.';\n",
              "          element.innerHTML = '';\n",
              "          dataTable['output_type'] = 'display_data';\n",
              "          await google.colab.output.renderOutput(dataTable, element);\n",
              "          const docLink = document.createElement('div');\n",
              "          docLink.innerHTML = docLinkHtml;\n",
              "          element.appendChild(docLink);\n",
              "        }\n",
              "      </script>\n",
              "    </div>\n",
              "  </div>\n",
              "  "
            ]
          },
          "metadata": {},
          "execution_count": 4
        }
      ]
    },
    {
      "cell_type": "code",
      "source": [
        "data.columns.values"
      ],
      "metadata": {
        "colab": {
          "base_uri": "https://localhost:8080/"
        },
        "id": "MLxLOBBr9LBf",
        "outputId": "d1a05f31-9ab1-448d-eb45-7da350664ee1"
      },
      "execution_count": null,
      "outputs": [
        {
          "output_type": "execute_result",
          "data": {
            "text/plain": [
              "array(['eventid', 'iyear', 'imonth', 'iday', 'approxdate', 'extended',\n",
              "       'resolution', 'country', 'country_txt', 'region', 'region_txt',\n",
              "       'provstate', 'city', 'latitude', 'longitude', 'specificity',\n",
              "       'vicinity', 'location', 'summary', 'crit1', 'crit2', 'crit3',\n",
              "       'doubtterr', 'alternative', 'alternative_txt', 'multiple',\n",
              "       'success', 'suicide', 'attacktype1', 'attacktype1_txt',\n",
              "       'attacktype2', 'attacktype2_txt', 'attacktype3', 'attacktype3_txt',\n",
              "       'targtype1', 'targtype1_txt', 'targsubtype1', 'targsubtype1_txt',\n",
              "       'corp1', 'target1', 'natlty1', 'natlty1_txt', 'targtype2',\n",
              "       'targtype2_txt', 'targsubtype2', 'targsubtype2_txt', 'corp2',\n",
              "       'target2', 'natlty2', 'natlty2_txt', 'targtype3', 'targtype3_txt',\n",
              "       'targsubtype3', 'targsubtype3_txt', 'corp3', 'target3', 'natlty3',\n",
              "       'natlty3_txt', 'gname', 'gsubname', 'gname2', 'gsubname2',\n",
              "       'gname3', 'gsubname3', 'motive', 'guncertain1', 'guncertain2',\n",
              "       'guncertain3', 'individual', 'nperps', 'nperpcap', 'claimed',\n",
              "       'claimmode', 'claimmode_txt', 'claim2', 'claimmode2',\n",
              "       'claimmode2_txt', 'claim3', 'claimmode3', 'claimmode3_txt',\n",
              "       'compclaim', 'weaptype1', 'weaptype1_txt', 'weapsubtype1',\n",
              "       'weapsubtype1_txt', 'weaptype2', 'weaptype2_txt', 'weapsubtype2',\n",
              "       'weapsubtype2_txt', 'weaptype3', 'weaptype3_txt', 'weapsubtype3',\n",
              "       'weapsubtype3_txt', 'weaptype4', 'weaptype4_txt', 'weapsubtype4',\n",
              "       'weapsubtype4_txt', 'weapdetail', 'nkill', 'nkillus', 'nkillter',\n",
              "       'nwound', 'nwoundus', 'nwoundte', 'property', 'propextent',\n",
              "       'propextent_txt', 'propvalue', 'propcomment', 'ishostkid',\n",
              "       'nhostkid', 'nhostkidus', 'nhours', 'ndays', 'divert',\n",
              "       'kidhijcountry', 'ransom', 'ransomamt', 'ransomamtus',\n",
              "       'ransompaid', 'ransompaidus', 'ransomnote', 'hostkidoutcome',\n",
              "       'hostkidoutcome_txt', 'nreleased', 'addnotes', 'scite1', 'scite2',\n",
              "       'scite3', 'dbsource', 'INT_LOG', 'INT_IDEO', 'INT_MISC', 'INT_ANY',\n",
              "       'related'], dtype=object)"
            ]
          },
          "metadata": {},
          "execution_count": 5
        }
      ]
    },
    {
      "cell_type": "code",
      "source": [
        "data.shape"
      ],
      "metadata": {
        "colab": {
          "base_uri": "https://localhost:8080/"
        },
        "id": "RRbFudz99QnA",
        "outputId": "7b085653-309d-4b06-9967-e64996eb7c96"
      },
      "execution_count": null,
      "outputs": [
        {
          "output_type": "execute_result",
          "data": {
            "text/plain": [
              "(137314, 135)"
            ]
          },
          "metadata": {},
          "execution_count": 6
        }
      ]
    },
    {
      "cell_type": "code",
      "source": [
        "data.info()"
      ],
      "metadata": {
        "colab": {
          "base_uri": "https://localhost:8080/"
        },
        "id": "7Ln99IQV9cnr",
        "outputId": "8bf55d61-a8ee-472f-c2a9-41bc449aa0ad"
      },
      "execution_count": null,
      "outputs": [
        {
          "output_type": "stream",
          "name": "stdout",
          "text": [
            "<class 'pandas.core.frame.DataFrame'>\n",
            "RangeIndex: 137314 entries, 0 to 137313\n",
            "Columns: 135 entries, eventid to related\n",
            "dtypes: object(135)\n",
            "memory usage: 141.4+ MB\n"
          ]
        }
      ]
    },
    {
      "cell_type": "code",
      "source": [
        "data.describe()"
      ],
      "metadata": {
        "colab": {
          "base_uri": "https://localhost:8080/",
          "height": 355
        },
        "id": "V3S-POrz9rOK",
        "outputId": "9f1bf51e-be6e-4d62-91ab-a96997a7f41a"
      },
      "execution_count": null,
      "outputs": [
        {
          "output_type": "execute_result",
          "data": {
            "text/plain": [
              "             eventid   iyear  imonth    iday       approxdate extended  \\\n",
              "count         137314  137314  137314  137314             2259   137314   \n",
              "unique        137314      44      13      32              914        2   \n",
              "top     197000000001    2013       5       1  July 1-14, 2014        0   \n",
              "freq               1   12036   13125    4916               27   132176   \n",
              "\n",
              "       resolution country country_txt  region  ...  \\\n",
              "count        2220  137314      137314  137314  ...   \n",
              "unique       1859     205         205      12  ...   \n",
              "top      8/4/1998      95        Iraq      10  ...   \n",
              "freq           18   15063       15063   32634  ...   \n",
              "\n",
              "                                                 addnotes  \\\n",
              "count                                               16967   \n",
              "unique                                              11430   \n",
              "top     Casualty numbers for this incident conflict ac...   \n",
              "freq                                                  535   \n",
              "\n",
              "                                                   scite1  \\\n",
              "count                                               71122   \n",
              "unique                                              54380   \n",
              "top     Committee on Government Operations United Stat...   \n",
              "freq                                                  205   \n",
              "\n",
              "                                                   scite2  \\\n",
              "count                                               49545   \n",
              "unique                                              41457   \n",
              "top     Christopher Hewitt, \"Political Violence and Te...   \n",
              "freq                                                  134   \n",
              "\n",
              "                                                   scite3 dbsource INT_LOG  \\\n",
              "count                                               27511   137313  137313   \n",
              "unique                                              23304       26       3   \n",
              "top     Christopher Hewitt, \"Political Violence and Te...     PGIS      -9   \n",
              "freq                                                  139    63740   71424   \n",
              "\n",
              "       INT_IDEO INT_MISC INT_ANY  \\\n",
              "count    137313   137313  137313   \n",
              "unique        3        3       3   \n",
              "top          -9        0      -9   \n",
              "freq      71556   118752   63880   \n",
              "\n",
              "                                                  related  \n",
              "count                                               17087  \n",
              "unique                                              11668  \n",
              "top     197209190001, 197209190002, 197209190003, 1972...  \n",
              "freq                                                   74  \n",
              "\n",
              "[4 rows x 135 columns]"
            ],
            "text/html": [
              "\n",
              "  <div id=\"df-00325f59-4e0e-47a9-b34e-28e2ee6b56ca\">\n",
              "    <div class=\"colab-df-container\">\n",
              "      <div>\n",
              "<style scoped>\n",
              "    .dataframe tbody tr th:only-of-type {\n",
              "        vertical-align: middle;\n",
              "    }\n",
              "\n",
              "    .dataframe tbody tr th {\n",
              "        vertical-align: top;\n",
              "    }\n",
              "\n",
              "    .dataframe thead th {\n",
              "        text-align: right;\n",
              "    }\n",
              "</style>\n",
              "<table border=\"1\" class=\"dataframe\">\n",
              "  <thead>\n",
              "    <tr style=\"text-align: right;\">\n",
              "      <th></th>\n",
              "      <th>eventid</th>\n",
              "      <th>iyear</th>\n",
              "      <th>imonth</th>\n",
              "      <th>iday</th>\n",
              "      <th>approxdate</th>\n",
              "      <th>extended</th>\n",
              "      <th>resolution</th>\n",
              "      <th>country</th>\n",
              "      <th>country_txt</th>\n",
              "      <th>region</th>\n",
              "      <th>...</th>\n",
              "      <th>addnotes</th>\n",
              "      <th>scite1</th>\n",
              "      <th>scite2</th>\n",
              "      <th>scite3</th>\n",
              "      <th>dbsource</th>\n",
              "      <th>INT_LOG</th>\n",
              "      <th>INT_IDEO</th>\n",
              "      <th>INT_MISC</th>\n",
              "      <th>INT_ANY</th>\n",
              "      <th>related</th>\n",
              "    </tr>\n",
              "  </thead>\n",
              "  <tbody>\n",
              "    <tr>\n",
              "      <th>count</th>\n",
              "      <td>137314</td>\n",
              "      <td>137314</td>\n",
              "      <td>137314</td>\n",
              "      <td>137314</td>\n",
              "      <td>2259</td>\n",
              "      <td>137314</td>\n",
              "      <td>2220</td>\n",
              "      <td>137314</td>\n",
              "      <td>137314</td>\n",
              "      <td>137314</td>\n",
              "      <td>...</td>\n",
              "      <td>16967</td>\n",
              "      <td>71122</td>\n",
              "      <td>49545</td>\n",
              "      <td>27511</td>\n",
              "      <td>137313</td>\n",
              "      <td>137313</td>\n",
              "      <td>137313</td>\n",
              "      <td>137313</td>\n",
              "      <td>137313</td>\n",
              "      <td>17087</td>\n",
              "    </tr>\n",
              "    <tr>\n",
              "      <th>unique</th>\n",
              "      <td>137314</td>\n",
              "      <td>44</td>\n",
              "      <td>13</td>\n",
              "      <td>32</td>\n",
              "      <td>914</td>\n",
              "      <td>2</td>\n",
              "      <td>1859</td>\n",
              "      <td>205</td>\n",
              "      <td>205</td>\n",
              "      <td>12</td>\n",
              "      <td>...</td>\n",
              "      <td>11430</td>\n",
              "      <td>54380</td>\n",
              "      <td>41457</td>\n",
              "      <td>23304</td>\n",
              "      <td>26</td>\n",
              "      <td>3</td>\n",
              "      <td>3</td>\n",
              "      <td>3</td>\n",
              "      <td>3</td>\n",
              "      <td>11668</td>\n",
              "    </tr>\n",
              "    <tr>\n",
              "      <th>top</th>\n",
              "      <td>197000000001</td>\n",
              "      <td>2013</td>\n",
              "      <td>5</td>\n",
              "      <td>1</td>\n",
              "      <td>July 1-14, 2014</td>\n",
              "      <td>0</td>\n",
              "      <td>8/4/1998</td>\n",
              "      <td>95</td>\n",
              "      <td>Iraq</td>\n",
              "      <td>10</td>\n",
              "      <td>...</td>\n",
              "      <td>Casualty numbers for this incident conflict ac...</td>\n",
              "      <td>Committee on Government Operations United Stat...</td>\n",
              "      <td>Christopher Hewitt, \"Political Violence and Te...</td>\n",
              "      <td>Christopher Hewitt, \"Political Violence and Te...</td>\n",
              "      <td>PGIS</td>\n",
              "      <td>-9</td>\n",
              "      <td>-9</td>\n",
              "      <td>0</td>\n",
              "      <td>-9</td>\n",
              "      <td>197209190001, 197209190002, 197209190003, 1972...</td>\n",
              "    </tr>\n",
              "    <tr>\n",
              "      <th>freq</th>\n",
              "      <td>1</td>\n",
              "      <td>12036</td>\n",
              "      <td>13125</td>\n",
              "      <td>4916</td>\n",
              "      <td>27</td>\n",
              "      <td>132176</td>\n",
              "      <td>18</td>\n",
              "      <td>15063</td>\n",
              "      <td>15063</td>\n",
              "      <td>32634</td>\n",
              "      <td>...</td>\n",
              "      <td>535</td>\n",
              "      <td>205</td>\n",
              "      <td>134</td>\n",
              "      <td>139</td>\n",
              "      <td>63740</td>\n",
              "      <td>71424</td>\n",
              "      <td>71556</td>\n",
              "      <td>118752</td>\n",
              "      <td>63880</td>\n",
              "      <td>74</td>\n",
              "    </tr>\n",
              "  </tbody>\n",
              "</table>\n",
              "<p>4 rows × 135 columns</p>\n",
              "</div>\n",
              "      <button class=\"colab-df-convert\" onclick=\"convertToInteractive('df-00325f59-4e0e-47a9-b34e-28e2ee6b56ca')\"\n",
              "              title=\"Convert this dataframe to an interactive table.\"\n",
              "              style=\"display:none;\">\n",
              "        \n",
              "  <svg xmlns=\"http://www.w3.org/2000/svg\" height=\"24px\"viewBox=\"0 0 24 24\"\n",
              "       width=\"24px\">\n",
              "    <path d=\"M0 0h24v24H0V0z\" fill=\"none\"/>\n",
              "    <path d=\"M18.56 5.44l.94 2.06.94-2.06 2.06-.94-2.06-.94-.94-2.06-.94 2.06-2.06.94zm-11 1L8.5 8.5l.94-2.06 2.06-.94-2.06-.94L8.5 2.5l-.94 2.06-2.06.94zm10 10l.94 2.06.94-2.06 2.06-.94-2.06-.94-.94-2.06-.94 2.06-2.06.94z\"/><path d=\"M17.41 7.96l-1.37-1.37c-.4-.4-.92-.59-1.43-.59-.52 0-1.04.2-1.43.59L10.3 9.45l-7.72 7.72c-.78.78-.78 2.05 0 2.83L4 21.41c.39.39.9.59 1.41.59.51 0 1.02-.2 1.41-.59l7.78-7.78 2.81-2.81c.8-.78.8-2.07 0-2.86zM5.41 20L4 18.59l7.72-7.72 1.47 1.35L5.41 20z\"/>\n",
              "  </svg>\n",
              "      </button>\n",
              "      \n",
              "  <style>\n",
              "    .colab-df-container {\n",
              "      display:flex;\n",
              "      flex-wrap:wrap;\n",
              "      gap: 12px;\n",
              "    }\n",
              "\n",
              "    .colab-df-convert {\n",
              "      background-color: #E8F0FE;\n",
              "      border: none;\n",
              "      border-radius: 50%;\n",
              "      cursor: pointer;\n",
              "      display: none;\n",
              "      fill: #1967D2;\n",
              "      height: 32px;\n",
              "      padding: 0 0 0 0;\n",
              "      width: 32px;\n",
              "    }\n",
              "\n",
              "    .colab-df-convert:hover {\n",
              "      background-color: #E2EBFA;\n",
              "      box-shadow: 0px 1px 2px rgba(60, 64, 67, 0.3), 0px 1px 3px 1px rgba(60, 64, 67, 0.15);\n",
              "      fill: #174EA6;\n",
              "    }\n",
              "\n",
              "    [theme=dark] .colab-df-convert {\n",
              "      background-color: #3B4455;\n",
              "      fill: #D2E3FC;\n",
              "    }\n",
              "\n",
              "    [theme=dark] .colab-df-convert:hover {\n",
              "      background-color: #434B5C;\n",
              "      box-shadow: 0px 1px 3px 1px rgba(0, 0, 0, 0.15);\n",
              "      filter: drop-shadow(0px 1px 2px rgba(0, 0, 0, 0.3));\n",
              "      fill: #FFFFFF;\n",
              "    }\n",
              "  </style>\n",
              "\n",
              "      <script>\n",
              "        const buttonEl =\n",
              "          document.querySelector('#df-00325f59-4e0e-47a9-b34e-28e2ee6b56ca button.colab-df-convert');\n",
              "        buttonEl.style.display =\n",
              "          google.colab.kernel.accessAllowed ? 'block' : 'none';\n",
              "\n",
              "        async function convertToInteractive(key) {\n",
              "          const element = document.querySelector('#df-00325f59-4e0e-47a9-b34e-28e2ee6b56ca');\n",
              "          const dataTable =\n",
              "            await google.colab.kernel.invokeFunction('convertToInteractive',\n",
              "                                                     [key], {});\n",
              "          if (!dataTable) return;\n",
              "\n",
              "          const docLinkHtml = 'Like what you see? Visit the ' +\n",
              "            '<a target=\"_blank\" href=https://colab.research.google.com/notebooks/data_table.ipynb>data table notebook</a>'\n",
              "            + ' to learn more about interactive tables.';\n",
              "          element.innerHTML = '';\n",
              "          dataTable['output_type'] = 'display_data';\n",
              "          await google.colab.output.renderOutput(dataTable, element);\n",
              "          const docLink = document.createElement('div');\n",
              "          docLink.innerHTML = docLinkHtml;\n",
              "          element.appendChild(docLink);\n",
              "        }\n",
              "      </script>\n",
              "    </div>\n",
              "  </div>\n",
              "  "
            ]
          },
          "metadata": {},
          "execution_count": 8
        }
      ]
    },
    {
      "cell_type": "code",
      "source": [
        "##FINDING NULL VALUES\n",
        "data.isnull().sum()"
      ],
      "metadata": {
        "colab": {
          "base_uri": "https://localhost:8080/"
        },
        "id": "OE_x153V9zkV",
        "outputId": "1caf52c4-b378-4d42-ac7f-3de6618e2a94"
      },
      "execution_count": null,
      "outputs": [
        {
          "output_type": "execute_result",
          "data": {
            "text/plain": [
              "eventid            0\n",
              "iyear              0\n",
              "imonth             0\n",
              "iday               0\n",
              "approxdate    135055\n",
              "               ...  \n",
              "INT_LOG            1\n",
              "INT_IDEO           1\n",
              "INT_MISC           1\n",
              "INT_ANY            1\n",
              "related       120227\n",
              "Length: 135, dtype: int64"
            ]
          },
          "metadata": {},
          "execution_count": 9
        }
      ]
    },
    {
      "cell_type": "code",
      "source": [
        "##FINDING NULL VALUES\n",
        "data.isnull().sum()"
      ],
      "metadata": {
        "colab": {
          "base_uri": "https://localhost:8080/"
        },
        "id": "oPHnToWn-FHz",
        "outputId": "0bffe095-6ac8-4159-9cc6-c3f8d5a46752"
      },
      "execution_count": null,
      "outputs": [
        {
          "output_type": "execute_result",
          "data": {
            "text/plain": [
              "eventid            0\n",
              "iyear              0\n",
              "imonth             0\n",
              "iday               0\n",
              "approxdate    135055\n",
              "               ...  \n",
              "INT_LOG            1\n",
              "INT_IDEO           1\n",
              "INT_MISC           1\n",
              "INT_ANY            1\n",
              "related       120227\n",
              "Length: 135, dtype: int64"
            ]
          },
          "metadata": {},
          "execution_count": 10
        }
      ]
    },
    {
      "cell_type": "code",
      "source": [
        "##PLOTTING THE SAME IN A BAR GRAPH\n",
        "plt.figure(figsize = (10,5))\n",
        "sns.barplot(data['country_txt'].value_counts()[:5].index,data['country_txt'].value_counts()[:5].values)\n",
        "plt.xlabel('Countries')\n",
        "plt.ylabel('Count')\n",
        "plt.xticks(rotation=90)\n",
        "plt.show()\n"
      ],
      "metadata": {
        "colab": {
          "base_uri": "https://localhost:8080/",
          "height": 384
        },
        "id": "Gdc2jiY_-HR0",
        "outputId": "5de7bd5e-4045-437c-dc4e-7a1c83b647c5"
      },
      "execution_count": null,
      "outputs": [
        {
          "output_type": "display_data",
          "data": {
            "text/plain": [
              "<Figure size 720x360 with 1 Axes>"
            ],
            "image/png": "[encoded data removed]"
          },
          "metadata": {
            "needs_background": "light"
          }
        }
      ]
    },
    {
      "cell_type": "code",
      "source": [
        "## IRAQ IS THE MOST AFFECTED COUNTRY WITH TERRORIST ATTACKS"
      ],
      "metadata": {
        "id": "fGi4qxBc-PQ8"
      },
      "execution_count": null,
      "outputs": []
    },
    {
      "cell_type": "code",
      "source": [
        "##TOP 5 REGIONS WITH MOST TERRORIST ATTACKS\n",
        "print(data['region_txt'].value_counts().head(5))"
      ],
      "metadata": {
        "colab": {
          "base_uri": "https://localhost:8080/"
        },
        "id": "E0_XoAJf-QYS",
        "outputId": "0997bcd6-40ae-449b-908d-9d3c012ccd31"
      },
      "execution_count": null,
      "outputs": [
        {
          "output_type": "stream",
          "name": "stdout",
          "text": [
            "Middle East & North Africa    32634\n",
            "South Asia                    31871\n",
            "South America                 18381\n",
            "Western Europe                15663\n",
            "Sub-Saharan Africa            10868\n",
            "Name: region_txt, dtype: int64\n"
          ]
        }
      ]
    },
    {
      "cell_type": "code",
      "source": [
        "##PLOTTING THE SAME IN A BAR GRAPH\n",
        "plt.figure(figsize = (10,5))\n",
        "sns.barplot(data['region_txt'].value_counts()[:5].index,data['region_txt'].value_counts()[:5].values)\n",
        "plt.xlabel('Region')\n",
        "plt.ylabel('Count')\n",
        "plt.xticks(rotation=90)\n",
        "plt.show()"
      ],
      "metadata": {
        "colab": {
          "base_uri": "https://localhost:8080/",
          "height": 455
        },
        "id": "Ssi_Ba8z-XHj",
        "outputId": "1287e2c8-f594-4aa7-c8ad-3989064df726"
      },
      "execution_count": null,
      "outputs": [
        {
          "output_type": "display_data",
          "data": {
            "text/plain": [
              "<Figure size 720x360 with 1 Axes>"
            ],
            "image/png": "[encoded data removed]"
          },
          "metadata": {
            "needs_background": "light"
          }
        }
      ]
    },
    {
      "cell_type": "code",
      "source": [
        "## MIDDLE EAST AND NORTH AFRICA IS THE REGION WITH MOST TERRORIST ATTACKS FOLLOWED BY SOUTH ASIA"
      ],
      "metadata": {
        "id": "3Xo-AF1J-x5O"
      },
      "execution_count": null,
      "outputs": []
    },
    {
      "cell_type": "code",
      "source": [
        "##TOP 5 CITIES WITH MOST TERRORIST ATTACKS\n",
        "print(data['city'].value_counts().head(5))"
      ],
      "metadata": {
        "colab": {
          "base_uri": "https://localhost:8080/"
        },
        "id": "EIjuzqqH-y7f",
        "outputId": "db229c5b-e610-4a2e-cbc3-20595e742fe8"
      },
      "execution_count": null,
      "outputs": [
        {
          "output_type": "stream",
          "name": "stdout",
          "text": [
            "Unknown    7898\n",
            "Baghdad    4904\n",
            "Lima       2357\n",
            "Karachi    2311\n",
            "Belfast    2057\n",
            "Name: city, dtype: int64\n"
          ]
        }
      ]
    },
    {
      "cell_type": "code",
      "source": [
        "##PLOTTING THE SAME IN A BAR GRAPH\n",
        "plt.figure(figsize = (10,5))\n",
        "sns.barplot(data['city'].value_counts()[:5].index,data['city'].value_counts()[:5].values)\n",
        "plt.xlabel('city')\n",
        "plt.ylabel('Count')\n",
        "plt.xticks(rotation=90)\n",
        "plt.show()\n"
      ],
      "metadata": {
        "colab": {
          "base_uri": "https://localhost:8080/",
          "height": 370
        },
        "id": "svisHUdi-6Ex",
        "outputId": "9bd359c0-49dd-46f4-a6a5-486867f83e76"
      },
      "execution_count": null,
      "outputs": [
        {
          "output_type": "display_data",
          "data": {
            "text/plain": [
              "<Figure size 720x360 with 1 Axes>"
            ],
            "image/png": "[encoded data removed]"
          },
          "metadata": {
            "needs_background": "light"
          }
        }
      ]
    },
    {
      "cell_type": "code",
      "source": [
        "## BAGHDAD IS THE CITY WITH MOST TERRORIST ATTACKS SINCE FIRST ONE IS UNKNOWN"
      ],
      "metadata": {
        "id": "t3dnk65c-9S7"
      },
      "execution_count": null,
      "outputs": []
    },
    {
      "cell_type": "code",
      "source": [
        "##TOP 5 STATES WITH MOST TERRORIST ATTACKS\n",
        "print(data['provstate'].value_counts().head(5))"
      ],
      "metadata": {
        "colab": {
          "base_uri": "https://localhost:8080/"
        },
        "id": "ixh8J3s6_CWW",
        "outputId": "3927860f-7c05-469e-d2c2-2f4b5dfcac58"
      },
      "execution_count": null,
      "outputs": [
        {
          "output_type": "stream",
          "name": "stdout",
          "text": [
            "Baghdad             4908\n",
            "Northern Ireland    4193\n",
            "Unknown             4044\n",
            "Sindh               2776\n",
            "Lima                2610\n",
            "Name: provstate, dtype: int64\n"
          ]
        }
      ]
    },
    {
      "cell_type": "code",
      "source": [
        "##PLOTTING THE SAME IN A BAR GRAPH\n",
        "plt.figure(figsize = (10,5))\n",
        "sns.barplot(data['provstate'].value_counts()[:5].index,data['provstate'].value_counts()[:5].values)\n",
        "plt.xlabel('state')\n",
        "plt.ylabel('Count')\n",
        "plt.xticks(rotation=90)\n",
        "plt.show()"
      ],
      "metadata": {
        "colab": {
          "base_uri": "https://localhost:8080/",
          "height": 406
        },
        "id": "oQ4XiHy6_N-w",
        "outputId": "92caf492-c78d-4349-8bdd-a1f12465e887"
      },
      "execution_count": null,
      "outputs": [
        {
          "output_type": "display_data",
          "data": {
            "text/plain": [
              "<Figure size 720x360 with 1 Axes>"
            ],
            "image/png": "[encoded data removed]"
          },
          "metadata": {
            "needs_background": "light"
          }
        }
      ]
    },
    {
      "cell_type": "code",
      "source": [
        "## BAGHDAD IS THE STATE WITH MOST TERRORIST ATTACKS"
      ],
      "metadata": {
        "id": "7W4XzmgY_TZb"
      },
      "execution_count": null,
      "outputs": []
    },
    {
      "cell_type": "code",
      "source": [
        "## YEARS WITH MOST AND LEAST TERRORIST ATTACKS\n",
        "print(data['iyear'].value_counts())"
      ],
      "metadata": {
        "colab": {
          "base_uri": "https://localhost:8080/"
        },
        "id": "m5xOnFae_UoT",
        "outputId": "e7057e89-a167-4321-ce37-f1519d411cc1"
      },
      "execution_count": null,
      "outputs": [
        {
          "output_type": "stream",
          "name": "stdout",
          "text": [
            "2013    12036\n",
            "2014    11978\n",
            "2012     8522\n",
            "2011     5076\n",
            "1992     5071\n",
            "2010     4826\n",
            "2008     4805\n",
            "2009     4721\n",
            "1991     4683\n",
            "1989     4324\n",
            "1990     3887\n",
            "1988     3721\n",
            "1984     3495\n",
            "1994     3456\n",
            "2007     3242\n",
            "1997     3197\n",
            "1987     3183\n",
            "1995     3081\n",
            "1996     3058\n",
            "1985     2915\n",
            "1983     2870\n",
            "1986     2860\n",
            "2006     2758\n",
            "1979     2662\n",
            "1980     2662\n",
            "1981     2586\n",
            "1982     2544\n",
            "2005     2017\n",
            "2001     1906\n",
            "2000     1814\n",
            "1978     1526\n",
            "1999     1395\n",
            "2002     1333\n",
            "1977     1319\n",
            "2003     1278\n",
            "2004     1166\n",
            "1998      934\n",
            "1976      923\n",
            "1975      740\n",
            "1970      651\n",
            "1974      581\n",
            "1972      568\n",
            "1973      473\n",
            "1971      471\n",
            "Name: iyear, dtype: int64\n"
          ]
        }
      ]
    },
    {
      "cell_type": "code",
      "source": [
        "##PLOTTING THE SAME IN A BAR GRAPH\n",
        "plt.figure(figsize = (10,5))\n",
        "sns.barplot(data['iyear'].value_counts().index,data['iyear'].value_counts().values)\n",
        "plt.xlabel('Year')\n",
        "plt.ylabel('Count')\n",
        "plt.xticks(rotation=90)\n",
        "plt.show()"
      ],
      "metadata": {
        "colab": {
          "base_uri": "https://localhost:8080/",
          "height": 349
        },
        "id": "lD7TIoS3_ngU",
        "outputId": "627291d9-1684-45df-a0f5-6201a35eb865"
      },
      "execution_count": null,
      "outputs": [
        {
          "output_type": "display_data",
          "data": {
            "text/plain": [
              "<Figure size 720x360 with 1 Axes>"
            ],
            "image/png": "[encoded data removed]"
          },
          "metadata": {
            "needs_background": "light"
          }
        }
      ]
    },
    {
      "cell_type": "code",
      "source": [
        "## 2014 IS THE YEAR WITH THE MOST AND 1971 IS THE YEAR WITH LEAST TERRORIST ACTIVITIES "
      ],
      "metadata": {
        "id": "AGVHcB45_rf6"
      },
      "execution_count": null,
      "outputs": []
    },
    {
      "cell_type": "code",
      "source": [
        "##TOP 5 MOST ACTIVE TERRORIST GROUPS\n",
        "print(data['gname'].value_counts().head(5))"
      ],
      "metadata": {
        "colab": {
          "base_uri": "https://localhost:8080/"
        },
        "id": "vyXbVoBX_uTb",
        "outputId": "9a8933c6-525e-4962-fba0-8d28334fd2d9"
      },
      "execution_count": null,
      "outputs": [
        {
          "output_type": "stream",
          "name": "stdout",
          "text": [
            "Unknown                                             63833\n",
            "Shining Path (SL)                                    4540\n",
            "Taliban                                              3924\n",
            "Farabundo Marti National Liberation Front (FMLN)     3351\n",
            "Irish Republican Army (IRA)                          2671\n",
            "Name: gname, dtype: int64\n"
          ]
        }
      ]
    },
    {
      "cell_type": "code",
      "source": [
        "##PLOTTING THE SAME IN A BAR GRAPH\n",
        "plt.figure(figsize = (10,5))\n",
        "sns.barplot(data['gname'].value_counts()[:5].index,data['gname'].value_counts()[:5].values)\n",
        "plt.xlabel('Terrorist Group')\n",
        "plt.ylabel('Count')\n",
        "plt.xticks(rotation=90)\n",
        "plt.show()"
      ],
      "metadata": {
        "colab": {
          "base_uri": "https://localhost:8080/",
          "height": 570
        },
        "id": "kxB7dsut_y91",
        "outputId": "4d103246-69ae-4b88-d7b0-0433ffdefa95"
      },
      "execution_count": null,
      "outputs": [
        {
          "output_type": "display_data",
          "data": {
            "text/plain": [
              "<Figure size 720x360 with 1 Axes>"
            ],
            "image/png": "[encoded data removed]"
          },
          "metadata": {
            "needs_background": "light"
          }
        }
      ]
    },
    {
      "cell_type": "code",
      "source": [
        "## TALIBAN IS THE MOST ACTIVE TERRORIST GROUP SINCE FIRST ONE IS UNKNOWN"
      ],
      "metadata": {
        "id": "_-Puhwjn_8BA"
      },
      "execution_count": null,
      "outputs": []
    },
    {
      "cell_type": "code",
      "source": [
        "##TOP 5 MONTHS WITH MOST TERRORIST ATTACKS\n",
        "print(data['imonth'].value_counts().head(5))"
      ],
      "metadata": {
        "colab": {
          "base_uri": "https://localhost:8080/"
        },
        "id": "PCjHGoul_8xU",
        "outputId": "445803fb-beff-4719-a783-8bb5954d4b28"
      },
      "execution_count": null,
      "outputs": [
        {
          "output_type": "stream",
          "name": "stdout",
          "text": [
            "5    13125\n",
            "7    12897\n",
            "8    12380\n",
            "3    11968\n",
            "6    11958\n",
            "Name: imonth, dtype: int64\n"
          ]
        }
      ]
    },
    {
      "cell_type": "code",
      "source": [
        "##PLOTTING THE SAME IN A BAR GRAPH\n",
        "plt.figure(figsize = (10,5))\n",
        "sns.barplot(data['imonth'].value_counts()[:5].index,data['imonth'].value_counts()[:5].values)\n",
        "plt.xlabel('Month')\n",
        "plt.ylabel('Count')\n",
        "plt.xticks(rotation=90)\n",
        "plt.show()"
      ],
      "metadata": {
        "colab": {
          "base_uri": "https://localhost:8080/",
          "height": 330
        },
        "id": "UtIJSFEFAB3H",
        "outputId": "857a4082-d0c6-41fd-e504-2883cdd360e7"
      },
      "execution_count": null,
      "outputs": [
        {
          "output_type": "display_data",
          "data": {
            "text/plain": [
              "<Figure size 720x360 with 1 Axes>"
            ],
            "image/png": "[encoded data removed]"
          },
          "metadata": {
            "needs_background": "light"
          }
        }
      ]
    },
    {
      "cell_type": "code",
      "source": [
        "## MOST TERRORIST ATTACKS TOOK PLACE IN THE MONTH OF MAY\n"
      ],
      "metadata": {
        "id": "ymYXgzMLADcN"
      },
      "execution_count": null,
      "outputs": []
    },
    {
      "cell_type": "code",
      "source": [
        "##TOP 5 METHOD OF TERRORIST ATTACKS\n",
        "print(data['attacktype1_txt'].value_counts().head(5))"
      ],
      "metadata": {
        "colab": {
          "base_uri": "https://localhost:8080/"
        },
        "id": "oyOm1XSNAIDv",
        "outputId": "6c83bef6-8434-49e6-845d-21ef7146df85"
      },
      "execution_count": null,
      "outputs": [
        {
          "output_type": "stream",
          "name": "stdout",
          "text": [
            "Bombing/Explosion                 65951\n",
            "Armed Assault                     33103\n",
            "Assassination                     16518\n",
            "Facility/Infrastructure Attack     7956\n",
            "Hostage Taking (Kidnapping)        7471\n",
            "Name: attacktype1_txt, dtype: int64\n"
          ]
        }
      ]
    },
    {
      "cell_type": "code",
      "source": [
        "##PLOTTING THE SAME IN A BAR GRAPH\n",
        "plt.figure(figsize = (10,5))\n",
        "sns.barplot(data['attacktype1_txt'].value_counts()[:5].index,data['attacktype1_txt'].value_counts()[:5].values)\n",
        "plt.xlabel('Attack Type')\n",
        "plt.ylabel('Count')\n",
        "plt.xticks(rotation=90)\n",
        "plt.show()"
      ],
      "metadata": {
        "colab": {
          "base_uri": "https://localhost:8080/",
          "height": 467
        },
        "id": "Cz9tLLJHANYq",
        "outputId": "c48eccdc-d3fc-497d-b00a-85a427df5db8"
      },
      "execution_count": null,
      "outputs": [
        {
          "output_type": "display_data",
          "data": {
            "text/plain": [
              "<Figure size 720x360 with 1 Axes>"
            ],
            "image/png": "[encoded data removed]"
          },
          "metadata": {
            "needs_background": "light"
          }
        }
      ]
    },
    {
      "cell_type": "code",
      "source": [
        "## BOMBING/EXPLOSION IS THE MOST COMMON METHOD USED IN TERRORIST ATTACKS"
      ],
      "metadata": {
        "id": "bSiYSYayAXTr"
      },
      "execution_count": null,
      "outputs": []
    },
    {
      "cell_type": "code",
      "source": [
        "##TOP 5 TARGETS OF TERRORIST ATTACKS\n",
        "print(data['targtype1_txt'].value_counts().head(5))"
      ],
      "metadata": {
        "colab": {
          "base_uri": "https://localhost:8080/"
        },
        "id": "Ox3IkDE1AYBa",
        "outputId": "e6f855e0-f962-4369-bc03-0bc4c55486c4"
      },
      "execution_count": null,
      "outputs": [
        {
          "output_type": "stream",
          "name": "stdout",
          "text": [
            "Private Citizens & Property    30670\n",
            "Military                       18918\n",
            "Police                         18479\n",
            "Government (General)           17813\n",
            "Business                       17473\n",
            "Name: targtype1_txt, dtype: int64\n"
          ]
        }
      ]
    },
    {
      "cell_type": "code",
      "source": [
        "##PLOTTING THE SAME IN A BAR GRAPH\n",
        "plt.figure(figsize = (10,5))\n",
        "sns.barplot(data['targtype1_txt'].value_counts()[:5].index,data['targtype1_txt'].value_counts()[:5].values)\n",
        "plt.xlabel('Affected Targets')\n",
        "plt.ylabel('Count')\n",
        "plt.xticks(rotation=90)\n",
        "plt.show()"
      ],
      "metadata": {
        "colab": {
          "base_uri": "https://localhost:8080/",
          "height": 457
        },
        "id": "YUfa4R5iAdn-",
        "outputId": "459a3744-7bcf-4661-e67d-eb3752d90d6d"
      },
      "execution_count": null,
      "outputs": [
        {
          "output_type": "display_data",
          "data": {
            "text/plain": [
              "<Figure size 720x360 with 1 Axes>"
            ],
            "image/png": "[encoded data removed]"
          },
          "metadata": {
            "needs_background": "light"
          }
        }
      ]
    },
    {
      "cell_type": "code",
      "source": [
        "## PRIVATE CITIZENS AND PROPERTY ARE MOST AFFECTED BY TERRORIST ATTACKS FOLLOWED BY MILITARY,POLICE,GENERAL GOVERNMENT AND BUSINESS "
      ],
      "metadata": {
        "id": "kMDvP5A4AhWr"
      },
      "execution_count": null,
      "outputs": []
    },
    {
      "cell_type": "code",
      "source": [
        "##TOP 5 WEAPONS USED FOR TERRORIST ATTACKS\n",
        "print(data['weaptype1_txt'].value_counts().head(5))"
      ],
      "metadata": {
        "colab": {
          "base_uri": "https://localhost:8080/"
        },
        "id": "w85aApKbAkco",
        "outputId": "472d297f-4f95-4dbd-c531-31e7282049ad"
      },
      "execution_count": null,
      "outputs": [
        {
          "output_type": "stream",
          "name": "stdout",
          "text": [
            "Explosives    68287\n",
            "Firearms      46616\n",
            "Unknown       10408\n",
            "Incendiary     8896\n",
            "Melee          2540\n",
            "Name: weaptype1_txt, dtype: int64\n"
          ]
        }
      ]
    },
    {
      "cell_type": "code",
      "source": [
        "##PLOTTING THE SAME IN A BAR GRAPH\n",
        "plt.figure(figsize = (10,5))\n",
        "sns.barplot(data['weaptype1_txt'].value_counts()[:5].index,data['weaptype1_txt'].value_counts()[:5].values)\n",
        "plt.xlabel('Weapons Used')\n",
        "plt.ylabel('Count')\n",
        "plt.xticks(rotation=90)\n",
        "plt.show()\n"
      ],
      "metadata": {
        "colab": {
          "base_uri": "https://localhost:8080/",
          "height": 376
        },
        "id": "o0yfRKK0An9r",
        "outputId": "3da3d669-34f3-4a7a-d155-94851954d596"
      },
      "execution_count": null,
      "outputs": [
        {
          "output_type": "display_data",
          "data": {
            "text/plain": [
              "<Figure size 720x360 with 1 Axes>"
            ],
            "image/png": "[encoded data removed]"
          },
          "metadata": {
            "needs_background": "light"
          }
        }
      ]
    },
    {
      "cell_type": "code",
      "source": [
        "## EXPLOSIVES ARE MOSTLY USED AS WEAPONS FOR TERRORIST ATTACKS"
      ],
      "metadata": {
        "id": "hfuZwrY8AuDG"
      },
      "execution_count": null,
      "outputs": []
    },
    {
      "cell_type": "code",
      "source": [
        "data['success'].value_counts()"
      ],
      "metadata": {
        "colab": {
          "base_uri": "https://localhost:8080/"
        },
        "id": "d6l1P03vAupG",
        "outputId": "358e375d-c1dd-4f8b-81a5-ab44e803907b"
      },
      "execution_count": null,
      "outputs": [
        {
          "output_type": "execute_result",
          "data": {
            "text/plain": [
              "1    124976\n",
              "0     12338\n",
              "Name: success, dtype: int64"
            ]
          },
          "metadata": {},
          "execution_count": 40
        }
      ]
    },
    {
      "cell_type": "code",
      "source": [
        "## TERRORISTS ARE SUCCESSFUL 161632 TIMES AND FAILED 20059 IN CONDUCTING TERRORIST ATTACKS"
      ],
      "metadata": {
        "id": "H-shEZ9BA4LY"
      },
      "execution_count": null,
      "outputs": []
    },
    {
      "cell_type": "code",
      "source": [
        "data['suicide'].value_counts()"
      ],
      "metadata": {
        "colab": {
          "base_uri": "https://localhost:8080/"
        },
        "id": "TzKk-8LUA8-N",
        "outputId": "8e5a4e7e-c10a-4ba2-c9c8-c7551a4d113d"
      },
      "execution_count": null,
      "outputs": [
        {
          "output_type": "execute_result",
          "data": {
            "text/plain": [
              "0    133688\n",
              "1      3626\n",
              "Name: suicide, dtype: int64"
            ]
          },
          "metadata": {},
          "execution_count": 42
        }
      ]
    },
    {
      "cell_type": "code",
      "source": [
        "## 6633 PEOPLE COMMITTED SUICIDE DURING THE ATTACKS"
      ],
      "metadata": {
        "id": "Jb8d8H_ZBCW-"
      },
      "execution_count": null,
      "outputs": []
    },
    {
      "cell_type": "markdown",
      "source": [
        "# **CONCLUSIONS**"
      ],
      "metadata": {
        "id": "WSPy-XeXBMmx"
      }
    },
    {
      "cell_type": "markdown",
      "source": [
        "1.MOST AFFECTED COUNTRY- IRAQ.\n",
        "\n",
        "2.MOST AFFECTED STATE- BAGHDAD\n",
        "\n",
        "3.MOST AFFECTED CITY- BAGHDAD\n",
        "\n",
        "4.MOST AFFECTED REGION- MIDDLE EAST AND NORTH AFRICA\n",
        "\n",
        "5.MOST TERRIFIC YEAR- 2014.\n",
        "\n",
        "6.YEAR WITH LEAST TERRORIST ACTIVITIES- 1971\n",
        "\n",
        "7.MOST COMMONLY USED ATTACK TYPE- BOMBING/EXPLOSION.\n",
        "\n",
        "8.WEAPON USED MOST NUMBER OF TIMES- EXPLOSIVES\n",
        "\n",
        "9.MOST ACTIVE TERRORIST GROUP WITH MAXIMUM NUMBER OF ATTACKS- TALIBAN\n",
        "\n",
        "10.AFFECTED TARGETS OF TERRORIST ATTACKS - PRIVATE CITIZENS AND PROPERTY ARE MOST AFFECTED BY TERRORIST ATTACKS FOLLOWED BY MILITARY,POLICE,GENERAL GOVERNMENT AND BUSINESS\n",
        "\n",
        "11.MONTH WITH MOST ATTACKS- MAY ## THEY WERE SUCCESS MOST NUMBER OF TIMES IN THEIR ATTACKS\n",
        "\n",
        "\n",
        "\n"
      ],
      "metadata": {
        "id": "dk0EEX0rCuoj"
      }
    },
    {
      "cell_type": "markdown",
      "source": [
        "# HOTZONE OF TERRORISM: IRAQ\n",
        "\n",
        "# THANK YOU"
      ],
      "metadata": {
        "id": "RFCR3VirDmZe"
      }
    }
  ]
}